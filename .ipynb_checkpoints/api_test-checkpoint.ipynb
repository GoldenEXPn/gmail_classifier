{
 "cells": [
  {
   "cell_type": "code",
   "execution_count": null,
   "id": "7a65d367-df3e-4291-942a-4306dd89898a",
   "metadata": {},
   "outputs": [],
   "source": [
    "import os\n",
    "import pickle\n",
    "import google.auth.transport.requests\n",
    "from google.oauth2.credentials import Credentials\n",
    "from google_auth_oauthlib.flow import InstalledAppFlow\n",
    "from googleapiclient.discovery import build"
   ]
  },
  {
   "cell_type": "code",
   "execution_count": null,
   "id": "8e169b31-0876-4882-8521-ad21aa24ca46",
   "metadata": {},
   "outputs": [],
   "source": [
    "# 定义OAuth2.0范围\n",
    "SCOPES = ['https://www.googleapis.com/auth/gmail.readonly']\n",
    "\n",
    "# 获取凭证\n",
    "def get_credentials():\n",
    "    creds = None\n",
    "    # 如果存在token.pickle文件，加载之前保存的凭证\n",
    "    if os.path.exists('token.pickle'):\n",
    "        with open('token.pickle', 'rb') as token:\n",
    "            creds = pickle.load(token)\n",
    "    # 如果没有凭证或凭证失效，重新获取\n",
    "    if not creds or not creds.valid:\n",
    "        if creds and creds.expired and creds.refresh_token:\n",
    "            creds.refresh(google.auth.transport.requests.Request())\n",
    "        else:\n",
    "            flow = InstalledAppFlow.from_client_secrets_file(\n",
    "                'credentials.json', SCOPES)\n",
    "            creds = flow.run_local_server(port=0)\n",
    "        # 保存新的凭证\n",
    "        with open('token.pickle', 'wb') as token:\n",
    "            pickle.dump(creds, token)\n",
    "    return creds\n",
    "\n",
    "# 获取Gmail服务\n",
    "def get_gmail_service():\n",
    "    creds = get_credentials()\n",
    "    service = build('gmail', 'v1', credentials=creds)\n",
    "    return service\n",
    "\n",
    "# 获取邮件列表示例\n",
    "service = get_gmail_service()\n",
    "results = service.users().messages().list(userId='me', labelIds=['INBOX']).execute()\n",
    "messages = results.get('messages', [])\n",
    "for message in messages:\n",
    "    msg = service.users().messages().get(userId='me', id=message['id']).execute()\n",
    "    print(msg['snippet'])\n"
   ]
  }
 ],
 "metadata": {
  "kernelspec": {
   "display_name": "Python 3 (ipykernel)",
   "language": "python",
   "name": "python3"
  },
  "language_info": {
   "codemirror_mode": {
    "name": "ipython",
    "version": 3
   },
   "file_extension": ".py",
   "mimetype": "text/x-python",
   "name": "python",
   "nbconvert_exporter": "python",
   "pygments_lexer": "ipython3",
   "version": "3.12.3"
  }
 },
 "nbformat": 4,
 "nbformat_minor": 5
}
